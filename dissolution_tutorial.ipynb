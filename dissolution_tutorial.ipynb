{
 "cells": [
  {
   "cell_type": "code",
   "execution_count": 1,
   "id": "ed29da1a-fcef-43fe-bb31-e761819bc000",
   "metadata": {},
   "outputs": [],
   "source": [
    "from lsgp import modelGP\n",
    "import numpy as np\n",
    "import pandas as pd\n",
    "import matplotlib.pyplot as plt\n",
    "from scipy.spatial import distance\n",
    "from scipy.stats import chi2"
   ]
  },
  {
   "cell_type": "markdown",
   "id": "32aa837d-e264-4933-9506-90e7c60726a1",
   "metadata": {},
   "source": [
    "# Generate data"
   ]
  },
  {
   "cell_type": "code",
   "execution_count": 2,
   "id": "13c38841-588f-44d7-9746-5b80d579b93d",
   "metadata": {},
   "outputs": [
    {
     "data": {
      "image/png": "[encoded data removed]",
      "text/plain": [
       "<Figure size 640x480 with 1 Axes>"
      ]
     },
     "metadata": {},
     "output_type": "display_data"
    }
   ],
   "source": [
    "a2_t = 100\n",
    "b_t = -0.215\n",
    "a1_t = 80\n",
    "\n",
    "a2_r = 100\n",
    "b_r = -0.19\n",
    "a1_r = 75\n",
    "\n",
    "ref_data = []\n",
    "test_data = []\n",
    "rho = 0\n",
    "sig_noise = 1\n",
    "p = 6\n",
    "timepoints = np.linspace(10, 60, p)\n",
    "n = 12\n",
    "\n",
    "test_data = []\n",
    "ref_data = []\n",
    "for i in range(n): \n",
    "    Y_T = []\n",
    "    Y_R = []\n",
    "\n",
    "    corr_struc = np.full((p,p),rho)\n",
    "    np.fill_diagonal(corr_struc, 1)\n",
    "    cov = corr_struc * sig_noise\n",
    "    mean = np.zeros(p)\n",
    "    \n",
    "    noise_ref = np.random.multivariate_normal(mean, cov)\n",
    "    noise_test = np.random.multivariate_normal(mean, cov)\n",
    "\n",
    "    for t in timepoints:\n",
    "        Y_R.append(a1_r / (1 + a2_r * np.exp(b_r * t)))\n",
    "        Y_T.append(a1_t / (1 + a2_t * np.exp(b_t * t)))        \n",
    "\n",
    "    Y_R = Y_R + noise_ref\n",
    "    Y_T = Y_T + noise_test\n",
    "    ref_data.append(Y_R)\n",
    "    test_data.append(Y_T)\n",
    "    \n",
    "    if i == n-1:\n",
    "        plt.scatter(timepoints, Y_R, color=\"#01b44c\", label=\"Reference Product\")\n",
    "        plt.scatter(timepoints, Y_T, color=\"blue\", label=\"Test Product\")\n",
    "    else:\n",
    "        plt.scatter(timepoints, Y_R, color=\"#01b44c\")\n",
    "        plt.scatter(timepoints, Y_T, color=\"blue\")\n",
    "plt.legend()\n",
    "\n",
    "ref_data = np.array(ref_data).T \n",
    "test_data = np.array(test_data).T\n",
    "index_experiments = [\"exp_0\"]*p\n",
    "ref_df = pd.DataFrame(ref_data)\n",
    "ref_df.columns = ['Y_' + str(i) for i in range(len(ref_df.columns))]\n",
    "ref_df[\"time\"] = timepoints\n",
    "ref_df[\"index_experiment\"] = index_experiments\n",
    "test_df = pd.DataFrame(test_data)\n",
    "test_df.columns = ['Y_' + str(i) for i in range(len(test_df.columns))]\n",
    "test_df[\"time\"] = timepoints\n",
    "test_df[\"index_experiment\"] = index_experiments"
   ]
  },
  {
   "cell_type": "code",
   "execution_count": 3,
   "id": "4d57d626-de85-4cf6-aec3-a8df74164159",
   "metadata": {},
   "outputs": [],
   "source": [
    "class CompareDissolution:\n",
    "    \"\"\"\n",
    "    A class which takes as input a reference set and a test set and contains methods for calculating the\n",
    "    f2, the MSD-based assessment, and plotting the predictions.\n",
    "    \"\"\"\n",
    "\n",
    "    def __init__(self, reference_set, test_set, expno): # tps\n",
    "        self.ref = reference_set\n",
    "        self.test = test_set\n",
    "        self.timetest = test_set[\"time\"]\n",
    "        self.timeref = reference_set[\"time\"]\n",
    "        r = 100 # Number of timepoints to predict at\n",
    "        # select exp number\n",
    "        exptopredict = \"exp_\" + str(expno)\n",
    "        self.rexp = self.ref[self.ref['index_experiment'] == exptopredict]\n",
    "        self.texp = self.test[self.test['index_experiment'] == exptopredict]\n",
    "        \n",
    "        self.model_ref = modelGP(self.rexp, add_intercept=True, heteroskedastic=False)\n",
    "        try:\n",
    "            self.model_ref.fit(num_restarts=5) \n",
    "        except Exception as e:\n",
    "            print(e) \n",
    "\n",
    "        self.model_test = modelGP(self.texp, add_intercept=True, heteroskedastic=False)\n",
    "        try:\n",
    "           self.model_test.fit(num_restarts=5) \n",
    "        except Exception as e:\n",
    "            print(e) \n",
    "        \n",
    "        # Get samples\n",
    "        self.iipred = expno \n",
    "        \n",
    "        # find min and max time across ref/test set & use this for predictions\n",
    "        self.mintime = self.timetest[0]\n",
    "        if self.timeref[0] < self.timetest[0]:\n",
    "            self.mintime = self.timeref[0] \n",
    "        self.maxtime = self.timetest[len(self.timetest)-1]\n",
    "        if self.timeref[len(self.timeref)-1] > self.timetest[len(self.timetest)-1]:\n",
    "            self.maxtime = self.timeref[len(self.timeref)-1] \n",
    "        self.tmp = np.linspace(self.mintime, self.maxtime, r)[:, None]\n",
    "\n",
    "        tmp = np.linspace(self.mintime, self.maxtime, r)[:, None]\n",
    "        dftmp=pd.DataFrame(tmp,columns=['time'])\n",
    "        dftmp['index_experiment']=exptopredict\n",
    "        self.Xcolnames = [col for col in self.rexp.columns if col.startswith('X_')]\n",
    "        self.dfpred_ref = pd.merge(self.rexp[self.Xcolnames+['index_experiment']].iloc[[0],:],dftmp,on=['index_experiment'])  \n",
    "        Xcolnames_test = [col for col in self.texp.columns if col.startswith('X_')]\n",
    "        self.dfpred_test = pd.merge(self.texp[Xcolnames_test+['index_experiment']].iloc[[0],:],dftmp,on=['index_experiment'])  \n",
    "\n",
    "        try:\n",
    "            pred_ret_test = self.model_test.predict(self.dfpred_test, nsamples=1000)\n",
    "            self.pred_samples = pred_ret_test[0]\n",
    "            self.test_gp_cov_mean = pred_ret_test[1]\n",
    "        except Exception as e:\n",
    "            print(e)\n",
    "        try: \n",
    "            pred_ret_ref = self.model_ref.predict(self.dfpred_ref, nsamples=1000)\n",
    "            self.pred_samples_ref = pred_ret_ref[0]\n",
    "            self.ref_gp_cov_mean = pred_ret_ref[1]\n",
    "        except Exception as e:\n",
    "            print(e) \n",
    "        self.p = self.pred_samples[\"exp_\" + str(self.iipred)]['f_pred_0'].shape[1] \n",
    "\n",
    "\n",
    "    def calculate_f2(self):\n",
    "        f2_sample = []\n",
    "        for i in range(self.pred_samples[\"exp_\" + str(self.iipred)]['f_pred_0'].shape[0]): \n",
    "            f2 = 50 * np.log10(100 * np.power((1 + ( 1/self.p * distance.sqeuclidean(self.pred_samples_ref[\"exp_\" + str(self.iipred)]['f_pred_0'][i], self.pred_samples[\"exp_\" + str(self.iipred)]['f_pred_0'][i]))), -0.5)) \n",
    "            f2_sample.append(f2)\n",
    "        f2_sample = np.array(f2_sample)\n",
    "        avg_f2 = np.mean(f2_sample)\n",
    "        return avg_f2, f2_sample\n",
    "\n",
    "\n",
    "    def calculate_msd(self):\n",
    "        mean_t = self.test_gp_cov_mean[0]\n",
    "        s_t = self.test_gp_cov_mean[1]\n",
    "        mean_ref = self.ref_gp_cov_mean[0]\n",
    "        s_r = self.ref_gp_cov_mean[1]\n",
    "        s_p_t = (s_r + s_t)\n",
    "\n",
    "        mean_diff = mean_ref - mean_t\n",
    "\n",
    "        msd_limit = []\n",
    "        for ii in range(self.p):\n",
    "            limit = np.zeros(self.p)\n",
    "            limit[ii]=10.0\n",
    "            msd_limit.append(np.power(limit.T @ np.linalg.inv(s_p_t) @ limit, 0.5))\n",
    "           \n",
    "        msd_limit = np.min(msd_limit)\n",
    "\n",
    "        msd_diff = mean_diff.T @ np.linalg.inv(s_p_t) @ mean_diff\n",
    "        crit_val = chi2.ppf(1 - 0.05, self.p)\n",
    "\n",
    "        z_plus = mean_diff * (1 + np.power(crit_val/msd_diff, 0.5))\n",
    "        z_minus = mean_diff * (1 - np.power(crit_val/msd_diff, 0.5))\n",
    "\n",
    "        z_plus_dist = np.power(z_plus.T @ np.linalg.inv(s_p_t) @ z_plus, 0.5)\n",
    "        z_minus_dist = np.power(z_minus.T @ np.linalg.inv(s_p_t) @ z_minus, 0.5)\n",
    "\n",
    "        max_distance = np.max([z_plus_dist, z_minus_dist])\n",
    "        if max_distance > msd_limit:\n",
    "            dec = 0\n",
    "            return dec, max_distance, msd_limit\n",
    "        else:\n",
    "            dec = 1\n",
    "            return dec, max_distance, msd_limit\n",
    "\n",
    "    def plot_predictions(self, f_t=True):\n",
    "        fig = plt.figure(figsize=(12, 5)) \n",
    "        ax = fig.gca()\n",
    "        plt.grid(axis = 'y')\n",
    "\n",
    "        if f_t:\n",
    "            sample_mean_ref = np.mean(self.pred_samples_ref[\"exp_\" + str(self.iipred)][\"f_pred_0\"], axis=0)\n",
    "            sample_lower_ref = np.percentile(self.pred_samples_ref[\"exp_\" + str(self.iipred)][\"f_pred_0\"], 2.5, axis=0)\n",
    "            sample_upper_ref = np.percentile(self.pred_samples_ref[\"exp_\" + str(self.iipred)][\"f_pred_0\"], 97.5, axis=0)\n",
    "            plt.plot(self.tmp[:,0], sample_mean_ref, color='black', alpha=0.7)\n",
    "            plt.fill_between(self.tmp[:,0], sample_lower_ref, sample_upper_ref, color='red', alpha=0.5)\n",
    "\n",
    "            sample_mean_test = np.mean(self.pred_samples[\"exp_\" + str(self.iipred)][\"f_pred_0\"], axis=0)\n",
    "            sample_lower_test = np.percentile(self.pred_samples[\"exp_\" + str(self.iipred)][\"f_pred_0\"], 2.5, axis=0)\n",
    "            sample_upper_test = np.percentile(self.pred_samples[\"exp_\" + str(self.iipred)][\"f_pred_0\"], 97.5, axis=0)\n",
    "            plt.plot(self.tmp[:,0], sample_mean_test, color='black', alpha=0.7)\n",
    "            plt.fill_between(self.tmp[:,0], sample_lower_test, sample_upper_test, color='red', alpha=0.5)\n",
    "\n",
    "        else:\n",
    "            sample_mean_ref = np.mean(self.pred_samples_ref[\"exp_\" + str(self.iipred)][\"y_pred_0\"], axis=0)\n",
    "            sample_lower_ref = np.percentile(self.pred_samples_ref[\"exp_\" + str(self.iipred)][\"y_pred_0\"], 2.5, axis=0)\n",
    "            sample_upper_ref = np.percentile(self.pred_samples_ref[\"exp_\" + str(self.iipred)][\"y_pred_0\"], 97.5, axis=0)\n",
    "            plt.plot(self.tmp[:,0], sample_mean_ref, color='black', alpha=0.7)\n",
    "            plt.fill_between(self.tmp[:,0], sample_lower_ref, sample_upper_ref, color='red', alpha=0.5)\n",
    "\n",
    "            sample_mean_test = np.mean(self.pred_samples[\"exp_\" + str(self.iipred)][\"y_pred_0\"], axis=0)\n",
    "            sample_lower_test = np.percentile(self.pred_samples[\"exp_\" + str(self.iipred)][\"y_pred_0\"], 2.5, axis=0)\n",
    "            sample_upper_test = np.percentile(self.pred_samples[\"exp_\" + str(self.iipred)][\"y_pred_0\"], 97.5, axis=0)\n",
    "            plt.plot(self.tmp[:,0], sample_mean_test, color='black', alpha=0.7)\n",
    "            plt.fill_between(self.tmp[:,0], sample_lower_test, sample_upper_test, color='red', alpha=0.5)\n",
    "\n",
    "        Ycolnames = [col for col in self.rexp.columns if col.startswith('Y_')]\n",
    "        for ycol in Ycolnames:\n",
    "            if ycol == Ycolnames[len(Ycolnames)-1]:\n",
    "                plt.plot(self.rexp['time'], self.rexp[ycol], \".\", ms=4, color='#01b44c', label=\"Reference Product\")\n",
    "                plt.plot(self.texp['time'], self.texp[ycol], \".\", ms=4, color='blue', label=\"Test Product\")\n",
    "            else:\n",
    "                plt.plot(self.rexp['time'], self.rexp[ycol], \".\", ms=4, color='#01b44c')\n",
    "                plt.plot(self.texp['time'], self.texp[ycol], \".\", ms=4, color='blue')\n",
    "\n",
    "        # axis labels and title\n",
    "        plt.xlabel(\"Time\", fontsize=20)\n",
    "        if f_t:\n",
    "            plt.ylabel(\"f(t)\", fontsize=20)\n",
    "        else:\n",
    "            plt.ylabel(\"y(t)\", fontsize=20)\n",
    "        plt.xlim([0, self.maxtime + 2]) \n",
    "        plt.legend(fontsize=18, loc = 'lower right')\n",
    "        plt.xticks(fontsize=16)\n",
    "        plt.yticks(fontsize=16)\n",
    "        plt.tight_layout()\n",
    "        plt.show()"
   ]
  },
  {
   "cell_type": "markdown",
   "id": "d30d2160-b045-4f5f-95ec-6efb8c1dc825",
   "metadata": {},
   "source": [
    "# Run LSGP"
   ]
  },
  {
   "cell_type": "code",
   "execution_count": null,
   "id": "1981a6d5-2787-4553-a94b-7ba8fdc57209",
   "metadata": {},
   "outputs": [
    {
     "data": {
      "application/vnd.jupyter.widget-view+json": {
       "model_id": "cd716d03bc704565a60b50723c3bc590",
       "version_major": 2,
       "version_minor": 0
      },
      "text/plain": [
       "Output()"
      ]
     },
     "metadata": {},
     "output_type": "display_data"
    },
    {
     "data": {
      "text/html": [
       "<pre style=\"white-space:pre;overflow-x:auto;line-height:normal;font-family:Menlo,'DejaVu Sans Mono',consolas,'Courier New',monospace\">\n",
       "</pre>\n"
      ],
      "text/plain": [
       "\n"
      ]
     },
     "metadata": {},
     "output_type": "display_data"
    },
    {
     "data": {
      "text/html": [
       "<pre style=\"white-space:pre;overflow-x:auto;line-height:normal;font-family:Menlo,'DejaVu Sans Mono',consolas,'Courier New',monospace\"></pre>\n"
      ],
      "text/plain": []
     },
     "metadata": {},
     "output_type": "display_data"
    },
    {
     "data": {
      "text/html": [
       "<pre style=\"white-space:pre;overflow-x:auto;line-height:normal;font-family:Menlo,'DejaVu Sans Mono',consolas,'Courier New',monospace\">\n",
       "</pre>\n"
      ],
      "text/plain": [
       "\n"
      ]
     },
     "metadata": {},
     "output_type": "display_data"
    },
    {
     "data": {
      "application/vnd.jupyter.widget-view+json": {
       "model_id": "ca9863a46baf4e978b5256d79adf936d",
       "version_major": 2,
       "version_minor": 0
      },
      "text/plain": [
       "Output()"
      ]
     },
     "metadata": {},
     "output_type": "display_data"
    },
    {
     "data": {
      "text/html": [
       "<pre style=\"white-space:pre;overflow-x:auto;line-height:normal;font-family:Menlo,'DejaVu Sans Mono',consolas,'Courier New',monospace\">\n",
       "</pre>\n"
      ],
      "text/plain": [
       "\n"
      ]
     },
     "metadata": {},
     "output_type": "display_data"
    },
    {
     "data": {
      "text/html": [
       "<pre style=\"white-space:pre;overflow-x:auto;line-height:normal;font-family:Menlo,'DejaVu Sans Mono',consolas,'Courier New',monospace\"></pre>\n"
      ],
      "text/plain": []
     },
     "metadata": {},
     "output_type": "display_data"
    },
    {
     "data": {
      "text/html": [
       "<pre style=\"white-space:pre;overflow-x:auto;line-height:normal;font-family:Menlo,'DejaVu Sans Mono',consolas,'Courier New',monospace\">\n",
       "</pre>\n"
      ],
      "text/plain": [
       "\n"
      ]
     },
     "metadata": {},
     "output_type": "display_data"
    },
    {
     "data": {
      "application/vnd.jupyter.widget-view+json": {
       "model_id": "78d7c866f7ea492193ccd5881e97b744",
       "version_major": 2,
       "version_minor": 0
      },
      "text/plain": [
       "Output()"
      ]
     },
     "metadata": {},
     "output_type": "display_data"
    },
    {
     "data": {
      "text/html": [
       "<pre style=\"white-space:pre;overflow-x:auto;line-height:normal;font-family:Menlo,'DejaVu Sans Mono',consolas,'Courier New',monospace\">\n",
       "</pre>\n"
      ],
      "text/plain": [
       "\n"
      ]
     },
     "metadata": {},
     "output_type": "display_data"
    },
    {
     "data": {
      "text/html": [
       "<pre style=\"white-space:pre;overflow-x:auto;line-height:normal;font-family:Menlo,'DejaVu Sans Mono',consolas,'Courier New',monospace\"></pre>\n"
      ],
      "text/plain": []
     },
     "metadata": {},
     "output_type": "display_data"
    },
    {
     "data": {
      "text/html": [
       "<pre style=\"white-space:pre;overflow-x:auto;line-height:normal;font-family:Menlo,'DejaVu Sans Mono',consolas,'Courier New',monospace\">\n",
       "</pre>\n"
      ],
      "text/plain": [
       "\n"
      ]
     },
     "metadata": {},
     "output_type": "display_data"
    },
    {
     "data": {
      "application/vnd.jupyter.widget-view+json": {
       "model_id": "24811dd385b8412aa77d027e97e0af48",
       "version_major": 2,
       "version_minor": 0
      },
      "text/plain": [
       "Output()"
      ]
     },
     "metadata": {},
     "output_type": "display_data"
    },
    {
     "data": {
      "text/html": [
       "<pre style=\"white-space:pre;overflow-x:auto;line-height:normal;font-family:Menlo,'DejaVu Sans Mono',consolas,'Courier New',monospace\">\n",
       "</pre>\n"
      ],
      "text/plain": [
       "\n"
      ]
     },
     "metadata": {},
     "output_type": "display_data"
    },
    {
     "data": {
      "text/html": [
       "<pre style=\"white-space:pre;overflow-x:auto;line-height:normal;font-family:Menlo,'DejaVu Sans Mono',consolas,'Courier New',monospace\"></pre>\n"
      ],
      "text/plain": []
     },
     "metadata": {},
     "output_type": "display_data"
    },
    {
     "data": {
      "text/html": [
       "<pre style=\"white-space:pre;overflow-x:auto;line-height:normal;font-family:Menlo,'DejaVu Sans Mono',consolas,'Courier New',monospace\">\n",
       "</pre>\n"
      ],
      "text/plain": [
       "\n"
      ]
     },
     "metadata": {},
     "output_type": "display_data"
    },
    {
     "data": {
      "application/vnd.jupyter.widget-view+json": {
       "model_id": "de818844c0fc4ccea7ea1c058f1e8f4d",
       "version_major": 2,
       "version_minor": 0
      },
      "text/plain": [
       "Output()"
      ]
     },
     "metadata": {},
     "output_type": "display_data"
    },
    {
     "data": {
      "text/html": [
       "<pre style=\"white-space:pre;overflow-x:auto;line-height:normal;font-family:Menlo,'DejaVu Sans Mono',consolas,'Courier New',monospace\">\n",
       "</pre>\n"
      ],
      "text/plain": [
       "\n"
      ]
     },
     "metadata": {},
     "output_type": "display_data"
    },
    {
     "data": {
      "text/html": [
       "<pre style=\"white-space:pre;overflow-x:auto;line-height:normal;font-family:Menlo,'DejaVu Sans Mono',consolas,'Courier New',monospace\"></pre>\n"
      ],
      "text/plain": []
     },
     "metadata": {},
     "output_type": "display_data"
    },
    {
     "data": {
      "text/html": [
       "<pre style=\"white-space:pre;overflow-x:auto;line-height:normal;font-family:Menlo,'DejaVu Sans Mono',consolas,'Courier New',monospace\">\n",
       "</pre>\n"
      ],
      "text/plain": [
       "\n"
      ]
     },
     "metadata": {},
     "output_type": "display_data"
    },
    {
     "name": "stdout",
     "output_type": "stream",
     "text": [
      "{'theta1': array([[4.30933208]]), 'theta2': array([[4.54167562]]), 'b': array([[-1.67053888]]), 'sigmak_interval__': array(-36.33995416), 'a_noise_0': array(-0.4909184), 'b_noise_0': array(8.09240786e-07), 'sigmak': array(0.0001), 'sigma^2_noise_0': array([0.62206401, 0.62206401, 0.62206401, 0.62206401, 0.62206401,\n",
      "       0.62206401, 0.62206401, 0.62206401, 0.62206401, 0.62206401,\n",
      "       0.62206401, 0.62206401, 0.62206401, 0.62206401, 0.62206401,\n",
      "       0.62206401, 0.62206401, 0.62206401, 0.62206401, 0.62206401,\n",
      "       0.62206401, 0.62206401, 0.62206401, 0.62206401, 0.62206401,\n",
      "       0.62206401, 0.62206401, 0.62206401, 0.62206401, 0.62206401,\n",
      "       0.62206401, 0.62206401, 0.62206401, 0.62206401, 0.62206401,\n",
      "       0.62206401, 0.62206401, 0.62206401, 0.62206401, 0.62206401,\n",
      "       0.62206401, 0.62206401, 0.62206401, 0.62206401, 0.62206401,\n",
      "       0.62206401, 0.62206401, 0.62206401, 0.62206401, 0.62206401,\n",
      "       0.62206401, 0.62206401, 0.62206401, 0.62206401, 0.62206401,\n",
      "       0.62206401, 0.62206401, 0.62206401, 0.62206401, 0.62206401,\n",
      "       0.62206401, 0.62206401, 0.62206401, 0.62206401, 0.62206401,\n",
      "       0.62206401, 0.62206401, 0.62206401, 0.62206401, 0.62206401,\n",
      "       0.62206401, 0.62206401])}\n"
     ]
    }
   ],
   "source": [
    "res = CompareDissolution(ref_df, test_df, 0)"
   ]
  },
  {
   "cell_type": "code",
   "execution_count": null,
   "id": "6be642c3-03ab-445a-a9f4-80867758ecbd",
   "metadata": {},
   "outputs": [],
   "source": [
    "print(\"f2 assessment\")\n",
    "avg_fstat, fstat_samples = res.calculate_f2()\n",
    "print(\"Expected f2: \", avg_fstat)\n",
    "if avg_fstat >= 50:\n",
    "    print(\"Dissolution curves similar.\")\n",
    "else:\n",
    "    print(\"Dissolution curves dissimilar.\")\n",
    "print()\n",
    "\n",
    "print(\"MSD-based assessment\")\n",
    "decision, d_limit, d_msd = res.calculate_msd()\n",
    "print(\"Limit distance: \", d_limit)\n",
    "print(\"MSD distance: \", d_msd)\n",
    "if decision: \n",
    "    print(\"Dissolution curves similar.\")\n",
    "else:\n",
    "    print(\"Dissolution curves dissimilar.\")\n",
    "\n",
    "res.plot_predictions()\n",
    "res.plot_predictions(f_t=False) # Plot y(t) = f(t) + \\epsilon(t)"
   ]
  }
 ],
 "metadata": {
  "kernelspec": {
   "display_name": "Python 3 (ipykernel)",
   "language": "python",
   "name": "python3"
  },
  "language_info": {
   "codemirror_mode": {
    "name": "ipython",
    "version": 3
   },
   "file_extension": ".py",
   "mimetype": "text/x-python",
   "name": "python",
   "nbconvert_exporter": "python",
   "pygments_lexer": "ipython3",
   "version": "3.11.9"
  }
 },
 "nbformat": 4,
 "nbformat_minor": 5
}
